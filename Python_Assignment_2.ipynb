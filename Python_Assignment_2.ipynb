{
 "cells": [
  {
   "cell_type": "markdown",
   "metadata": {},
   "source": [
    "## 1.Write a program which takes 5 inputs from user for different subject’s marks, total it and generate mark sheet using grades "
   ]
  },
  {
   "cell_type": "code",
   "execution_count": 7,
   "metadata": {},
   "outputs": [
    {
     "name": "stdout",
     "output_type": "stream",
     "text": [
      "............. Marks Sheet  ..............\n",
      "Enter Your English Marks : 45\n",
      "Enter Your Math Marks : 34\n",
      "Enter Your Chemistry  Marks :23\n",
      "Enter Your Biology  Marks : 23\n",
      "Enter Your urdu Marks : 23\n",
      "Total Numbers Out of 500   :  148\n",
      "Fail \n"
     ]
    }
   ],
   "source": [
    "import numpy as np \n",
    "\n",
    "print('............. Marks Sheet  ..............')\n",
    "eng=int(input(\"Enter Your English Marks : \"))\n",
    "math=int(input(\"Enter Your Math Marks : \"))\n",
    "chem=int(input(\"Enter Your Chemistry  Marks :\"))\n",
    "bio=int(input(\"Enter Your Biology  Marks : \"))\n",
    "urdu=int(input(\"Enter Your urdu Marks : \"))\n",
    "total=eng+math+chem+bio+urdu\n",
    "\n",
    "perc=total/500*100\n",
    "int(perc)\n",
    "print(\"Total Numbers Out of 500   : \",total)\n",
    "\n",
    "if(perc>=80):\n",
    "    print(\"Your Grade is : A+\")\n",
    "elif(perc>=70):\n",
    "    print(\"Your Grade is : A\")\n",
    "elif (perc>=60):\n",
    "    print(\"Your Grade is : B\")\n",
    "elif (perc>=50):\n",
    "    print(\"Your Grade is : C\")   \n",
    "else:\n",
    "    print(\"Fail \")\n",
    "    \n",
    "\n",
    "\n"
   ]
  },
  {
   "cell_type": "markdown",
   "metadata": {},
   "source": [
    "## 2.Write a program which take input from user and identify that the given number is even or odd\n"
   ]
  },
  {
   "cell_type": "code",
   "execution_count": 9,
   "metadata": {},
   "outputs": [
    {
     "name": "stdout",
     "output_type": "stream",
     "text": [
      "Enter a number 7\n",
      "This is Odd number\n"
     ]
    }
   ],
   "source": [
    "\n",
    "num=int(input(\"Enter a number \"))\n",
    "if num%2==0:\n",
    "    print(\"This number is Even\")\n",
    "else :\n",
    "    print(\"This is Odd number\")"
   ]
  },
  {
   "cell_type": "markdown",
   "metadata": {},
   "source": [
    "## 3.Write a program which print the length of the list?"
   ]
  },
  {
   "cell_type": "code",
   "execution_count": 1,
   "metadata": {},
   "outputs": [
    {
     "name": "stdout",
     "output_type": "stream",
     "text": [
      "22\n"
     ]
    }
   ],
   "source": [
    "my_list=(\"Irfankhan from karachi\")\n",
    "length=len(my_list)\n",
    "print(length)"
   ]
  },
  {
   "cell_type": "markdown",
   "metadata": {},
   "source": [
    "## 4.Write a Python program to sum all the numeric items in a list?"
   ]
  },
  {
   "cell_type": "code",
   "execution_count": 3,
   "metadata": {},
   "outputs": [
    {
     "name": "stdout",
     "output_type": "stream",
     "text": [
      "Please enter length of list which you want to create : 2\n",
      "Enter number 2\n",
      "Enter number 4\n",
      "Sum of elements in given list is : 6\n"
     ]
    }
   ],
   "source": [
    "num_list = []\n",
    "num = int(input('Please enter length of list which you want to create : '))\n",
    "for n in range(num):\n",
    "    numbers = int(input('Enter number '))\n",
    "    num_list.append(numbers)\n",
    "print(\"Sum of elements in given list is :\", sum(num_list))"
   ]
  },
  {
   "cell_type": "markdown",
   "metadata": {},
   "source": [
    "## 5.Write a Python program to get the largest number from a numeric list."
   ]
  },
  {
   "cell_type": "code",
   "execution_count": 5,
   "metadata": {},
   "outputs": [
    {
     "name": "stdout",
     "output_type": "stream",
     "text": [
      "Largest number in list is : 22\n"
     ]
    }
   ],
   "source": [
    "lar_num=[8,3,4,5,8,22]\n",
    "print(\"Largest number in list is :\",  max(lar_num))"
   ]
  },
  {
   "cell_type": "markdown",
   "metadata": {},
   "source": [
    "## 6. write a program that prints out all the elements of the list that are  less than 5. \n"
   ]
  },
  {
   "cell_type": "code",
   "execution_count": 7,
   "metadata": {},
   "outputs": [
    {
     "name": "stdout",
     "output_type": "stream",
     "text": [
      "[1, 1, 2, 3]\n"
     ]
    }
   ],
   "source": [
    "a=[1,1,2,3,5,8,13,21,34,55,89]\n",
    "b=[]\n",
    "for min in a:\n",
    "    if min<5:\n",
    "        b.append(min)\n",
    "        \n",
    "print(b)        "
   ]
  },
  {
   "cell_type": "code",
   "execution_count": null,
   "metadata": {},
   "outputs": [],
   "source": []
  }
 ],
 "metadata": {
  "kernelspec": {
   "display_name": "Python 3",
   "language": "python",
   "name": "python3"
  },
  "language_info": {
   "codemirror_mode": {
    "name": "ipython",
    "version": 3
   },
   "file_extension": ".py",
   "mimetype": "text/x-python",
   "name": "python",
   "nbconvert_exporter": "python",
   "pygments_lexer": "ipython3",
   "version": "3.7.1"
  }
 },
 "nbformat": 4,
 "nbformat_minor": 2
}
